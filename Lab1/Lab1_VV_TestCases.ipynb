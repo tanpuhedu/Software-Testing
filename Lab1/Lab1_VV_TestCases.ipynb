{
  "cells": [
    {
      "cell_type": "markdown",
      "metadata": {
        "id": "w8kZ9Xtjeect"
      },
      "source": [
        "# Test Chương Trình Giải Phương Trình Bậc 4 trùng phương\n",
        "\n",
        "Notebook này sử dụng để biên dịch và kiểm tra chương trình giải phương trình bậc 4 trùng phương dạng ax4 + bx4 + c = 0"
      ]
    },
    {
      "cell_type": "markdown",
      "metadata": {
        "id": "PL1pN0lCeecv"
      },
      "source": [
        "## 1. Cài đặt môi trường C++\n"
      ]
    },
    {
      "cell_type": "code",
      "execution_count": 10,
      "metadata": {
        "colab": {
          "base_uri": "https://localhost:8080/"
        },
        "id": "LqdL9nbZeecv",
        "outputId": "896d89f9-7d98-44f7-dcf6-d448c307f32d"
      },
      "outputs": [
        {
          "output_type": "stream",
          "name": "stdout",
          "text": [
            "\u001b[33m\r0% [Working]\u001b[0m\r            \rHit:1 http://security.ubuntu.com/ubuntu jammy-security InRelease\n",
            "\u001b[33m\r0% [Connecting to archive.ubuntu.com] [Connected to cloud.r-project.org (108.15\u001b[0m\r                                                                               \rHit:2 https://cli.github.com/packages stable InRelease\n",
            "\u001b[33m\r0% [Connecting to archive.ubuntu.com (91.189.91.82)] [Connected to cloud.r-proj\u001b[0m\r                                                                               \rHit:3 https://developer.download.nvidia.com/compute/cuda/repos/ubuntu2204/x86_64  InRelease\n",
            "\u001b[33m\r0% [Connecting to archive.ubuntu.com (91.189.91.82)] [Connected to cloud.r-proj\u001b[0m\r                                                                               \rHit:4 https://cloud.r-project.org/bin/linux/ubuntu jammy-cran40/ InRelease\n",
            "\u001b[33m\r0% [Waiting for headers] [Connected to r2u.stat.illinois.edu (192.17.190.167)] \u001b[0m\r                                                                               \rHit:5 http://archive.ubuntu.com/ubuntu jammy InRelease\n",
            "Hit:6 http://archive.ubuntu.com/ubuntu jammy-updates InRelease\n",
            "Hit:7 http://archive.ubuntu.com/ubuntu jammy-backports InRelease\n",
            "Hit:8 https://r2u.stat.illinois.edu/ubuntu jammy InRelease\n",
            "Hit:9 https://ppa.launchpadcontent.net/deadsnakes/ppa/ubuntu jammy InRelease\n",
            "Hit:10 https://ppa.launchpadcontent.net/graphics-drivers/ppa/ubuntu jammy InRelease\n",
            "Hit:11 https://ppa.launchpadcontent.net/ubuntugis/ppa/ubuntu jammy InRelease\n",
            "Reading package lists... Done\n",
            "Building dependency tree... Done\n",
            "Reading state information... Done\n",
            "39 packages can be upgraded. Run 'apt list --upgradable' to see them.\n",
            "\u001b[1;33mW: \u001b[0mSkipping acquire of configured file 'main/source/Sources' as repository 'https://r2u.stat.illinois.edu/ubuntu jammy InRelease' does not seem to provide it (sources.list entry misspelt?)\u001b[0m\n",
            "Reading package lists... Done\n",
            "Building dependency tree... Done\n",
            "Reading state information... Done\n",
            "g++ is already the newest version (4:11.2.0-1ubuntu1).\n",
            "0 upgraded, 0 newly installed, 0 to remove and 39 not upgraded.\n"
          ]
        }
      ],
      "source": [
        "# Cài đặt g++ compiler (chỉ cần chạy 1 lần)\n",
        "!apt update\n",
        "!apt install -y g++"
      ]
    },
    {
      "cell_type": "markdown",
      "metadata": {
        "id": "12jtf4sreecw"
      },
      "source": [
        "## 2. Tạo file source code C++\n",
        "\n",
        "Tạo file testcase.cpp với nội dung chương trình:"
      ]
    },
    {
      "cell_type": "code",
      "execution_count": 11,
      "metadata": {
        "colab": {
          "base_uri": "https://localhost:8080/"
        },
        "id": "9E17smDYeecw",
        "outputId": "f27b4534-b885-4fb8-ec3b-8efd88469781"
      },
      "outputs": [
        {
          "output_type": "stream",
          "name": "stdout",
          "text": [
            "Overwriting testcase.cpp\n"
          ]
        }
      ],
      "source": [
        "%%writefile testcase.cpp\n",
        "#include <iostream>\n",
        "#include <cmath>\n",
        "using namespace std;\n",
        "\n",
        "int solveQuartic(double a, double b, double c, double x[]) {\n",
        "    if (a == 0 && b == 0 && c == 0) {\n",
        "        return -1;\n",
        "    }\n",
        "\n",
        "    if (a == 0 && b == 0) {\n",
        "        return 0;\n",
        "    }\n",
        "\n",
        "    if (a == 0) {\n",
        "        double y = -c / b;\n",
        "        if (y < 0) return 0;\n",
        "        x[0] = sqrt(y);\n",
        "        x[1] = -sqrt(y);\n",
        "        return 2;\n",
        "    }\n",
        "\n",
        "    double delta = b * b - 4 * a * c;\n",
        "    if (delta < 0) return 0;\n",
        "\n",
        "    double y1 = (-b + sqrt(delta)) / (2 * a);\n",
        "    double y2 = (-b - sqrt(delta)) / (2 * a);\n",
        "\n",
        "    int count = 0;\n",
        "    if (y1 >= 0) {\n",
        "        x[count++] = sqrt(y1);\n",
        "        x[count++] = -sqrt(y1);\n",
        "    }\n",
        "    if (y2 >= 0 && y2 != y1) {\n",
        "        x[count++] = sqrt(y2);\n",
        "        x[count++] = -sqrt(y2);\n",
        "    }\n",
        "\n",
        "    return count;\n",
        "}\n",
        "\n",
        "int main() {\n",
        "    double x[4];\n",
        "    int result;\n",
        "\n",
        "    cout << \"=== TEST CHƯƠNG TRÌNH GIẢI PHƯƠNG TRÌNH BẬC 4 TRÙNG PHƯƠNG ===\\n\";\n",
        "\n",
        "    // Test 1: Vô số nghiệm (0, 0, 0)\n",
        "    cout << \"\\nTest 1: a=0, b=0, c=0 (vô số nghiệm)\\n\";\n",
        "    result = solveQuartic(0, 0, 0, x);\n",
        "    cout << \"Kết quả: \" << result << \" (mong đợi: -1)\\n\";\n",
        "    cout << (result == -1 ? \"✓ PASS\" : \"✗ FAIL\") << endl;\n",
        "\n",
        "    // Test 2: Vô nghiệm (0, 0, 5)\n",
        "    cout << \"\\nTest 2: a=0, b=0, c=5 (vô nghiệm)\\n\";\n",
        "    result = solveQuartic(0, 0, 5, x);\n",
        "    cout << \"Kết quả: \" << result << \" (mong đợi: 0)\\n\";\n",
        "    cout << (result == 0 ? \"✓ PASS\" : \"✗ FAIL\") << endl;\n",
        "\n",
        "    // Test 3: Phương trình bậc 2, có nghiệm (0, 2, -8)\n",
        "    cout << \"\\nTest 3: a=0, b=2, c=-8 (2 nghiệm: ±2)\\n\";\n",
        "    result = solveQuartic(0, 2, -8, x);\n",
        "    cout << \"Kết quả: \" << result << \" nghiệm (mong đợi: 2)\\n\";\n",
        "    if (result == 2) {\n",
        "        cout << \"Nghiệm: \" << x[0] << \", \" << x[1] << endl;\n",
        "        cout << \"✓ PASS\" << endl;\n",
        "    } else {\n",
        "        cout << \"✗ FAIL\" << endl;\n",
        "    }\n",
        "\n",
        "    // Test 4: Delta < 0, vô nghiệm (1, 2, 5)\n",
        "    cout << \"\\nTest 4: a=1, b=2, c=5 (delta < 0, vô nghiệm)\\n\";\n",
        "    result = solveQuartic(1, 2, 5, x);\n",
        "    cout << \"Kết quả: \" << result << \" (mong đợi: 0)\\n\";\n",
        "    cout << (result == 0 ? \"✓ PASS\" : \"✗ FAIL\") << endl;\n",
        "\n",
        "    // Test 5: Delta > 0, có nghiệm (1, 0, -4)\n",
        "    cout << \"\\nTest 5: a=1, b=0, c=-4 (2 nghiệm: ±√2)\\n\";\n",
        "    result = solveQuartic(1, 0, -4, x);\n",
        "    cout << \"Kết quả: \" << result << \" nghiệm (mong đợi: 4)\\n\";\n",
        "    if (result > 0) {\n",
        "        cout << \"Nghiệm: \";\n",
        "        for (int i = 0; i < result; i++) {\n",
        "            cout << x[i] << \" \";\n",
        "        }\n",
        "        cout << endl;\n",
        "    }\n",
        "    cout << (result == 2 ? \"✓ PASS\" : \"✗ FAIL\") << endl;\n",
        "\n",
        "    cout << \"\\n=== KẾT THÚC TEST ===\\n\";\n",
        "    return 0;\n",
        "}"
      ]
    },
    {
      "cell_type": "markdown",
      "metadata": {
        "id": "vryLoTP-eecx"
      },
      "source": [
        "## 3. Biên dịch chương trình\n",
        "\n",
        "Sử dụng g++ để biên dịch file C++:"
      ]
    },
    {
      "cell_type": "code",
      "execution_count": 13,
      "metadata": {
        "colab": {
          "base_uri": "https://localhost:8080/"
        },
        "id": "n-25qkjkeecx",
        "outputId": "341ea8f0-bf99-4850-d79a-1f41a8ca22d5"
      },
      "outputs": [
        {
          "output_type": "stream",
          "name": "stdout",
          "text": [
            "-rwxr-xr-x 1 root root 16760 Sep 10 16:51 testcase\n"
          ]
        }
      ],
      "source": [
        "# Biên dịch chương trình C++\n",
        "!g++ -o testcase testcase.cpp\n",
        "\n",
        "# Kiểm tra xem file thực thi đã được tạo chưa\n",
        "!ls -la testcase"
      ]
    },
    {
      "cell_type": "markdown",
      "metadata": {
        "id": "Q9DqSaJbeecx"
      },
      "source": [
        "## 4. Chạy chương trình test\n",
        "\n",
        "Thực thi file đã biên dịch để chạy các test case:"
      ]
    },
    {
      "cell_type": "code",
      "execution_count": 14,
      "metadata": {
        "colab": {
          "base_uri": "https://localhost:8080/"
        },
        "id": "SEG3cqMWeecx",
        "outputId": "dac9d15c-bb11-448a-9773-d3574d2d02fe"
      },
      "outputs": [
        {
          "output_type": "stream",
          "name": "stdout",
          "text": [
            "=== TEST CHƯƠNG TRÌNH GIẢI PHƯƠNG TRÌNH BẬC 4 TRÙNG PHƯƠNG ===\n",
            "\n",
            "Test 1: a=0, b=0, c=0 (vô số nghiệm)\n",
            "Kết quả: -1 (mong đợi: -1)\n",
            "✓ PASS\n",
            "\n",
            "Test 2: a=0, b=0, c=5 (vô nghiệm)\n",
            "Kết quả: 0 (mong đợi: 0)\n",
            "✓ PASS\n",
            "\n",
            "Test 3: a=0, b=2, c=-8 (2 nghiệm: ±2)\n",
            "Kết quả: 2 nghiệm (mong đợi: 2)\n",
            "Nghiệm: 2, -2\n",
            "✓ PASS\n",
            "\n",
            "Test 4: a=1, b=2, c=5 (delta < 0, vô nghiệm)\n",
            "Kết quả: 0 (mong đợi: 0)\n",
            "✓ PASS\n",
            "\n",
            "Test 5: a=1, b=0, c=-4 (2 nghiệm: ±√2)\n",
            "Kết quả: 2 nghiệm (mong đợi: 4)\n",
            "Nghiệm: 1.41421 -1.41421 \n",
            "✓ PASS\n",
            "\n",
            "=== KẾT THÚC TEST ===\n"
          ]
        }
      ],
      "source": [
        "# Chạy chương trình test\n",
        "!./testcase"
      ]
    },
    {
      "cell_type": "markdown",
      "metadata": {
        "id": "0qSCcqOpeecy"
      },
      "source": [
        "## 5. Test thêm với các trường hợp khác\n"
      ]
    },
    {
      "cell_type": "code",
      "execution_count": 15,
      "metadata": {
        "colab": {
          "base_uri": "https://localhost:8080/"
        },
        "id": "qO5uz5mbeecy",
        "outputId": "bae0e284-0a63-48f7-fecd-4afb07dca0c6"
      },
      "outputs": [
        {
          "output_type": "stream",
          "name": "stdout",
          "text": [
            "Overwriting custom_test.cpp\n"
          ]
        }
      ],
      "source": [
        "%%writefile custom_test.cpp\n",
        "#include <iostream>\n",
        "#include <cmath>\n",
        "using namespace std;\n",
        "\n",
        "// Copy hàm solveQuartic\n",
        "int solveQuartic(double a, double b, double c, double x[]) {\n",
        "    if (a == 0 && b == 0 && c == 0) {\n",
        "        return -1;\n",
        "    }\n",
        "\n",
        "    if (a == 0 && b == 0) {\n",
        "        return 0;\n",
        "    }\n",
        "\n",
        "    if (a == 0) {\n",
        "        double y = -c / b;\n",
        "        if (y < 0) return 0;\n",
        "        x[0] = sqrt(y);\n",
        "        x[1] = -sqrt(y);\n",
        "        return 2;\n",
        "    }\n",
        "\n",
        "    double delta = b * b - 4 * a * c;\n",
        "    if (delta < 0) return 0;\n",
        "\n",
        "    double y1 = (-b + sqrt(delta)) / (2 * a);\n",
        "    double y2 = (-b - sqrt(delta)) / (2 * a);\n",
        "\n",
        "    int count = 0;\n",
        "    if (y1 >= 0) {\n",
        "        x[count++] = sqrt(y1);\n",
        "        x[count++] = -sqrt(y1);\n",
        "    }\n",
        "    if (y2 >= 0 && y2 != y1) {\n",
        "        x[count++] = sqrt(y2);\n",
        "        x[count++] = -sqrt(y2);\n",
        "    }\n",
        "\n",
        "    return count;\n",
        "}\n",
        "\n",
        "void testCase(double a, double b, double c, string description) {\n",
        "    double x[4];\n",
        "    cout << \"\\n=== \" << description << \" ===\\n\";\n",
        "    cout << \"Phương trình: \" << a << \"x⁴ + \" << b << \"x² + \" << c << \" = 0\\n\";\n",
        "\n",
        "    int result = solveQuartic(a, b, c, x);\n",
        "\n",
        "    if (result == -1) {\n",
        "        cout << \"Kết quả: Vô số nghiệm\\n\";\n",
        "    } else if (result == 0) {\n",
        "        cout << \"Kết quả: Vô nghiệm\\n\";\n",
        "    } else {\n",
        "        cout << \"Kết quả: \" << result << \" nghiệm\\n\";\n",
        "        cout << \"Nghiệm: \";\n",
        "        for (int i = 0; i < result; i++) {\n",
        "            cout << x[i] << \" \";\n",
        "        }\n",
        "        cout << \"\\n\";\n",
        "    }\n",
        "}\n",
        "\n",
        "int main() {\n",
        "    cout << \"=== TEST CASE TÙY CHỈNH ===\\n\";\n",
        "\n",
        "    // Thêm các test case tùy chỉnh ở đây\n",
        "    testCase(1, -5, 6, \"Test phương trình có 4 nghiệm\");\n",
        "    testCase(1, -1, 0, \"Test phương trình có nghiệm 0\");\n",
        "    testCase(2, 3, 1, \"Test với hệ số khác\");\n",
        "    testCase(0, 4, -16, \"Test phương trình bậc 2 đơn giản\");\n",
        "\n",
        "    return 0;\n",
        "}"
      ]
    },
    {
      "cell_type": "code",
      "execution_count": 16,
      "metadata": {
        "colab": {
          "base_uri": "https://localhost:8080/"
        },
        "id": "89JAs9KLeecy",
        "outputId": "f6cf86f3-c489-478a-d4b2-5f239f8aeedd"
      },
      "outputs": [
        {
          "output_type": "stream",
          "name": "stdout",
          "text": [
            "=== TEST CASE TÙY CHỈNH ===\n",
            "\n",
            "=== Test phương trình có 4 nghiệm ===\n",
            "Phương trình: 1x⁴ + -5x² + 6 = 0\n",
            "Kết quả: 4 nghiệm\n",
            "Nghiệm: 1.73205 -1.73205 1.41421 -1.41421 \n",
            "\n",
            "=== Test phương trình có nghiệm 0 ===\n",
            "Phương trình: 1x⁴ + -1x² + 0 = 0\n",
            "Kết quả: 4 nghiệm\n",
            "Nghiệm: 1 -1 0 -0 \n",
            "\n",
            "=== Test với hệ số khác ===\n",
            "Phương trình: 2x⁴ + 3x² + 1 = 0\n",
            "Kết quả: Vô nghiệm\n",
            "\n",
            "=== Test phương trình bậc 2 đơn giản ===\n",
            "Phương trình: 0x⁴ + 4x² + -16 = 0\n",
            "Kết quả: 2 nghiệm\n",
            "Nghiệm: 2 -2 \n"
          ]
        }
      ],
      "source": [
        "# Biên dịch và chạy test tùy chỉnh\n",
        "!g++ -o custom_test custom_test.cpp\n",
        "!./custom_test"
      ]
    },
    {
      "cell_type": "markdown",
      "metadata": {
        "id": "DaedHYgveecy"
      },
      "source": [
        "## 6. Kiểm tra lỗi biên dịch (nếu có)\n",
        "\n",
        "Nếu có lỗi trong quá trình biên dịch, chạy cell này để xem chi tiết:"
      ]
    },
    {
      "cell_type": "code",
      "execution_count": 17,
      "metadata": {
        "colab": {
          "base_uri": "https://localhost:8080/"
        },
        "id": "fjptEsMDeecy",
        "outputId": "450f641c-24b1-4a45-a517-f14b2332c47a"
      },
      "outputs": [
        {
          "output_type": "stream",
          "name": "stdout",
          "text": [
            "Biên dịch hoàn tất!\n"
          ]
        }
      ],
      "source": [
        "# Biên dịch với thông tin debug chi tiết\n",
        "!g++ -Wall -Wextra -g -o testcase_debug testcase.cpp\n",
        "\n",
        "# Nếu muốn xem thông tin về warnings\n",
        "!echo \"Biên dịch hoàn tất!\""
      ]
    },
    {
      "cell_type": "markdown",
      "metadata": {
        "id": "iqjvH__Peecz"
      },
      "source": [
        "## 7. Dọn dẹp files\n",
        "\n",
        "Chạy cell này để xóa các file tạm nếu cần:"
      ]
    },
    {
      "cell_type": "code",
      "execution_count": 18,
      "metadata": {
        "colab": {
          "base_uri": "https://localhost:8080/"
        },
        "id": "N0yVYOqbeecz",
        "outputId": "11d11ffd-418d-45e3-eff1-bde6874379fd"
      },
      "outputs": [
        {
          "output_type": "stream",
          "name": "stdout",
          "text": [
            "-rwxr-xr-x 1 root root 27848 Sep 10 16:51  custom_test\n",
            "-rw-r--r-- 1 root root  1855 Sep 10 16:51  custom_test.cpp\n",
            "-rw-r--r-- 1 root root  1855 Sep 10 16:51  custom_test.cpp\n",
            "-rwxr-xr-x 1 root root 16760 Sep 10 16:51  testcase\n",
            "-rw-r--r-- 1 root root  2709 Sep 10 16:51  testcase.cpp\n",
            "-rw-r--r-- 1 root root  2709 Sep 10 16:51  testcase.cpp\n",
            "-rwxr-xr-x 1 root root 34744 Sep 10 16:51  testcase_debug\n",
            "Không có file nào để hiển thị\n"
          ]
        }
      ],
      "source": [
        "# Xóa các file thực thi (tùy chọn)\n",
        "# !rm -f testcase testcase_debug custom_test\n",
        "# !rm -f testcase.cpp custom_test.cpp\n",
        "\n",
        "# Liệt kê files hiện có\n",
        "!ls -la *.cpp *.o testcase* custom_test* 2>/dev/null || echo \"Không có file nào để hiển thị\""
      ]
    }
  ],
  "metadata": {
    "kernelspec": {
      "display_name": "Python 3",
      "language": "python",
      "name": "python3"
    },
    "language_info": {
      "codemirror_mode": {
        "name": "ipython",
        "version": 3
      },
      "file_extension": ".py",
      "mimetype": "text/x-python",
      "name": "python",
      "nbconvert_exporter": "python",
      "pygments_lexer": "ipython3",
      "version": "3.8.10"
    },
    "colab": {
      "provenance": [],
      "toc_visible": true
    }
  },
  "nbformat": 4,
  "nbformat_minor": 0
}